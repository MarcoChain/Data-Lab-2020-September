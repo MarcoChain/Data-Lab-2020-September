{
  "nbformat": 4,
  "nbformat_minor": 0,
  "metadata": {
    "colab": {
      "name": "semptember_competition.ipynb",
      "provenance": [],
      "collapsed_sections": []
    },
    "kernelspec": {
      "name": "python3",
      "display_name": "Python 3"
    },
    "accelerator": "GPU"
  },
  "cells": [
    {
      "cell_type": "code",
      "metadata": {
        "id": "rHnBifGewo4M",
        "outputId": "9b7836c0-1460-40f7-9b2b-4b412e27e331",
        "colab": {
          "base_uri": "https://localhost:8080/",
          "height": 35
        }
      },
      "source": [
        "import os\n",
        "from scipy.io.wavfile import read\n",
        "import numpy as np\n",
        "from google.colab import drive\n",
        "from sklearn.preprocessing import StandardScaler\n",
        "from sklearn.preprocessing import RobustScaler\n",
        "from sklearn.model_selection import train_test_split\n",
        "from keras.models import Sequential\n",
        "from tensorflow.keras.activations import relu\n",
        "from tensorflow.keras.activations import selu\n",
        "import keras\n",
        "import tensorflow as tf\n",
        "from keras import layers\n",
        "from keras.layers import LeakyReLU\n",
        "from keras.layers import Dense\n",
        "from keras.layers import Flatten\n",
        "from keras.layers import Dropout\n",
        "from keras.layers import BatchNormalization\n",
        "from keras.layers.convolutional import Conv1D\n",
        "from keras.optimizers import SGD\n",
        "from keras.layers.convolutional import MaxPooling1D\n",
        "from keras.layers.convolutional import AveragePooling1D\n",
        "from keras.layers import GlobalMaxPool1D\n",
        "from keras.layers import GlobalAveragePooling1D\n",
        "from keras.utils import to_categorical\n",
        "from keras.regularizers import l2\n",
        "from matplotlib import pyplot\n",
        "from scipy.fft import fft\n",
        "from tensorflow.keras.constraints import max_norm\n",
        "from keras.layers import GaussianNoise \n",
        "from keras.layers import GaussianDropout \n",
        "from keras.layers import SpatialDropout1D \n",
        "from keras.layers import Concatenate \n",
        "from keras import Model\n",
        "from keras import Input\n",
        "drive.mount('/content/drive')"
      ],
      "execution_count": null,
      "outputs": [
        {
          "output_type": "stream",
          "text": [
            "Drive already mounted at /content/drive; to attempt to forcibly remount, call drive.mount(\"/content/drive\", force_remount=True).\n"
          ],
          "name": "stdout"
        }
      ]
    },
    {
      "cell_type": "code",
      "metadata": {
        "id": "Bh3xbgtNyy9H",
        "outputId": "41788a06-a0bb-4d07-93a8-6d00e8d2d396",
        "colab": {
          "base_uri": "https://localhost:8080/",
          "height": 87
        }
      },
      "source": [
        "!unzip \"/content/drive/My Drive/development.zip\" -d \"/content/\"\n",
        "!unzip \"/content/drive/My Drive/evaluation.zip\" -d \"/content/\""
      ],
      "execution_count": null,
      "outputs": [
        {
          "output_type": "stream",
          "text": [
            "Archive:  /content/drive/My Drive/development.zip\n",
            "replace /content/development/i/482fcf4448c5804f492cc8a47384128ee1731a5f158bbbb6ddadefb93809cc7d.wav? [y]es, [n]o, [A]ll, [N]one, [r]ename: N\n",
            "Archive:  /content/drive/My Drive/evaluation.zip\n",
            "replace /content/evaluation/8e123b8a4017cf5ab284b3f6eef325e974528950f1f318dc819f59f7a38bfd50.wav? [y]es, [n]o, [A]ll, [N]one, [r]ename: N\n"
          ],
          "name": "stdout"
        }
      ]
    },
    {
      "cell_type": "code",
      "metadata": {
        "id": "mbjWLFJHy_JA"
      },
      "source": [
        "audios = []\n",
        "time = []\n",
        "labels = []\n",
        "letters = [\"a\", \"b\", \"c\", \"d\", \"e\", \"f\", \"g\", \"h\", \"i\", \"j\"]\n",
        "n = 0\n",
        "\n",
        "for lbl in letters:\n",
        "    file = os.listdir('/content/development/' + lbl)\n",
        "    for name in file:\n",
        "        lung = len(np.array(read('/content/development/' + lbl + \"/\" + name)[1]))\n",
        "        if 11999 == lung:\n",
        "          appo = np.array(read('/content/development/' + lbl + \"/\" + name)[1])\n",
        "          time.append(appo)\n",
        "          audios.append(np.abs(fft(appo)))\n",
        "          #audios.append(appo)\n",
        "          labels.append(n)\n",
        "        elif lung > 11999:\n",
        "          arr = np.array(read('/content/development/' + lbl + \"/\" + name)[1])\n",
        "          time.append(arr[:-1])\n",
        "          audios.append(np.abs(fft(arr[:-1])))\n",
        "          #audios.append(appo)\n",
        "          labels.append(n)\n",
        "    n+=1"
      ],
      "execution_count": null,
      "outputs": []
    },
    {
      "cell_type": "code",
      "metadata": {
        "id": "GBO798nH14LI"
      },
      "source": [
        "audios = np.array(audios)\n",
        "time = np.array(time)\n",
        "y = to_categorical(np.array(labels), 10)"
      ],
      "execution_count": null,
      "outputs": []
    },
    {
      "cell_type": "code",
      "metadata": {
        "id": "JteRGF10in7a"
      },
      "source": [
        "ss1 = StandardScaler()\n",
        "sst1 = StandardScaler()\n",
        "#ss1 = RobustScaler()\n",
        "#sst1 = RobustScaler()\n",
        "X = ss1.fit_transform(audios)\n",
        "X = X.reshape((X.shape[0], 11999, 1))\n",
        "X_t = sst1.fit_transform(time)\n",
        "X_t = X_t.reshape((X_t.shape[0], 11999, 1))\n",
        "audios = []\n",
        "time = []"
      ],
      "execution_count": null,
      "outputs": []
    },
    {
      "cell_type": "markdown",
      "metadata": {
        "id": "AkgozPf4HkS7"
      },
      "source": [
        "##Rete"
      ]
    },
    {
      "cell_type": "code",
      "metadata": {
        "id": "OlCb0H8inQJZ"
      },
      "source": [
        "def create_model(n_features):\n",
        "  model = Sequential()\n",
        "  model.add(Conv1D(filters=128, kernel_size=3, strides = 1,  kernel_regularizer=l2(0.0005), bias_regularizer=l2(0.0005), input_shape=(n_features, 1)))\n",
        "  model.add(BatchNormalization())\n",
        "  model.add(layers.Activation(relu))\n",
        "  model.add(MaxPooling1D(pool_size=2))\n",
        "  #if tempo == True:\n",
        "   # model.add(GaussianNoise(0.2))\n",
        "  #model.add(SpatialDropout1D(0.3))\n",
        "  model.add(Conv1D(filters=192, kernel_size=3, strides = 2, kernel_regularizer=l2(0.0005), bias_regularizer=l2(0.0005)))\n",
        "  model.add(BatchNormalization())\n",
        "  model.add(layers.Activation(relu))\n",
        "  model.add(MaxPooling1D(pool_size=2))\n",
        "  model.add(Conv1D(filters=192, kernel_size=3, strides = 2, kernel_regularizer=l2(0.0005), bias_regularizer=l2(0.0005)))\n",
        "  model.add(BatchNormalization())\n",
        "  model.add(layers.Activation(relu))\n",
        "  model.add(MaxPooling1D(pool_size=2))\n",
        "  model.add(Conv1D(filters=256, kernel_size=5, strides = 2, kernel_regularizer=l2(0.0005), bias_regularizer=l2(0.0005)))\n",
        "  model.add(BatchNormalization())\n",
        "  model.add(layers.Activation(relu))\n",
        "  model.add(MaxPooling1D(pool_size=2))\n",
        "  model.add(Conv1D(filters=392, kernel_size=5, strides = 2, kernel_regularizer=l2(0.0005), bias_regularizer=l2(0.0005)))\n",
        "  model.add(BatchNormalization())\n",
        "  model.add(layers.Activation(relu))\n",
        "  model.add(MaxPooling1D(pool_size=2))\n",
        "  model.add(Conv1D(filters=512, kernel_size=7, strides = 2, kernel_regularizer=l2(0.0005), bias_regularizer=l2(0.0005)))\n",
        "  model.add(BatchNormalization())\n",
        "  model.add(layers.Activation(relu))\n",
        "  #model.add(GlobalAveragePooling1D())\n",
        "  model.add(MaxPooling1D())\n",
        "  model.add(Flatten())\n",
        "  #model.add(Dense(100, activation = \"relu\", kernel_regularizer=l2(0.0005), bias_regularizer=l2(0.0005)))\n",
        "  return model\n",
        "  #model.summary()"
      ],
      "execution_count": null,
      "outputs": []
    },
    {
      "cell_type": "code",
      "metadata": {
        "id": "U5i5X_CmPopp",
        "outputId": "ced3f913-9245-433f-d0f6-689793510285",
        "colab": {
          "base_uri": "https://localhost:8080/",
          "height": 1000
        }
      },
      "source": [
        "verbose, epochs, batch_size, n_features, n_outputs = 1, 11, 32, 11999, 10\n",
        "time = create_model(n_features)\n",
        "fourier = create_model(n_features)\n",
        "\n",
        "# combine the output of the two branches\n",
        "combined = keras.layers.Concatenate(axis=1)([time.output, fourier.output])\n",
        "\n",
        "dense = Dense(100, activation = \"relu\", kernel_regularizer=l2(0.0005), bias_regularizer=l2(0.0005))(combined)\n",
        "drop = Dropout(0.5)(dense)\n",
        "out = Dense(n_outputs, activation='softmax')(drop)\n",
        "\n",
        "model = Model(inputs=[fourier.input, time.input], outputs=out)\n",
        "sgd = SGD(lr=0.001, momentum=0.9, nesterov=False)\n",
        "model.compile(loss='categorical_crossentropy', optimizer=sgd, metrics=['accuracy'])\n",
        "model.summary()"
      ],
      "execution_count": null,
      "outputs": [
        {
          "output_type": "stream",
          "text": [
            "Model: \"functional_1\"\n",
            "__________________________________________________________________________________________________\n",
            "Layer (type)                    Output Shape         Param #     Connected to                     \n",
            "==================================================================================================\n",
            "conv1d_input (InputLayer)       [(None, 11999, 1)]   0                                            \n",
            "__________________________________________________________________________________________________\n",
            "conv1d_6_input (InputLayer)     [(None, 11999, 1)]   0                                            \n",
            "__________________________________________________________________________________________________\n",
            "conv1d (Conv1D)                 (None, 11997, 128)   512         conv1d_input[0][0]               \n",
            "__________________________________________________________________________________________________\n",
            "conv1d_6 (Conv1D)               (None, 11997, 128)   512         conv1d_6_input[0][0]             \n",
            "__________________________________________________________________________________________________\n",
            "batch_normalization (BatchNorma (None, 11997, 128)   512         conv1d[0][0]                     \n",
            "__________________________________________________________________________________________________\n",
            "batch_normalization_6 (BatchNor (None, 11997, 128)   512         conv1d_6[0][0]                   \n",
            "__________________________________________________________________________________________________\n",
            "activation (Activation)         (None, 11997, 128)   0           batch_normalization[0][0]        \n",
            "__________________________________________________________________________________________________\n",
            "activation_6 (Activation)       (None, 11997, 128)   0           batch_normalization_6[0][0]      \n",
            "__________________________________________________________________________________________________\n",
            "max_pooling1d (MaxPooling1D)    (None, 5998, 128)    0           activation[0][0]                 \n",
            "__________________________________________________________________________________________________\n",
            "max_pooling1d_6 (MaxPooling1D)  (None, 5998, 128)    0           activation_6[0][0]               \n",
            "__________________________________________________________________________________________________\n",
            "conv1d_1 (Conv1D)               (None, 2998, 192)    73920       max_pooling1d[0][0]              \n",
            "__________________________________________________________________________________________________\n",
            "conv1d_7 (Conv1D)               (None, 2998, 192)    73920       max_pooling1d_6[0][0]            \n",
            "__________________________________________________________________________________________________\n",
            "batch_normalization_1 (BatchNor (None, 2998, 192)    768         conv1d_1[0][0]                   \n",
            "__________________________________________________________________________________________________\n",
            "batch_normalization_7 (BatchNor (None, 2998, 192)    768         conv1d_7[0][0]                   \n",
            "__________________________________________________________________________________________________\n",
            "activation_1 (Activation)       (None, 2998, 192)    0           batch_normalization_1[0][0]      \n",
            "__________________________________________________________________________________________________\n",
            "activation_7 (Activation)       (None, 2998, 192)    0           batch_normalization_7[0][0]      \n",
            "__________________________________________________________________________________________________\n",
            "max_pooling1d_1 (MaxPooling1D)  (None, 1499, 192)    0           activation_1[0][0]               \n",
            "__________________________________________________________________________________________________\n",
            "max_pooling1d_7 (MaxPooling1D)  (None, 1499, 192)    0           activation_7[0][0]               \n",
            "__________________________________________________________________________________________________\n",
            "conv1d_2 (Conv1D)               (None, 749, 192)     110784      max_pooling1d_1[0][0]            \n",
            "__________________________________________________________________________________________________\n",
            "conv1d_8 (Conv1D)               (None, 749, 192)     110784      max_pooling1d_7[0][0]            \n",
            "__________________________________________________________________________________________________\n",
            "batch_normalization_2 (BatchNor (None, 749, 192)     768         conv1d_2[0][0]                   \n",
            "__________________________________________________________________________________________________\n",
            "batch_normalization_8 (BatchNor (None, 749, 192)     768         conv1d_8[0][0]                   \n",
            "__________________________________________________________________________________________________\n",
            "activation_2 (Activation)       (None, 749, 192)     0           batch_normalization_2[0][0]      \n",
            "__________________________________________________________________________________________________\n",
            "activation_8 (Activation)       (None, 749, 192)     0           batch_normalization_8[0][0]      \n",
            "__________________________________________________________________________________________________\n",
            "max_pooling1d_2 (MaxPooling1D)  (None, 374, 192)     0           activation_2[0][0]               \n",
            "__________________________________________________________________________________________________\n",
            "max_pooling1d_8 (MaxPooling1D)  (None, 374, 192)     0           activation_8[0][0]               \n",
            "__________________________________________________________________________________________________\n",
            "conv1d_3 (Conv1D)               (None, 185, 256)     246016      max_pooling1d_2[0][0]            \n",
            "__________________________________________________________________________________________________\n",
            "conv1d_9 (Conv1D)               (None, 185, 256)     246016      max_pooling1d_8[0][0]            \n",
            "__________________________________________________________________________________________________\n",
            "batch_normalization_3 (BatchNor (None, 185, 256)     1024        conv1d_3[0][0]                   \n",
            "__________________________________________________________________________________________________\n",
            "batch_normalization_9 (BatchNor (None, 185, 256)     1024        conv1d_9[0][0]                   \n",
            "__________________________________________________________________________________________________\n",
            "activation_3 (Activation)       (None, 185, 256)     0           batch_normalization_3[0][0]      \n",
            "__________________________________________________________________________________________________\n",
            "activation_9 (Activation)       (None, 185, 256)     0           batch_normalization_9[0][0]      \n",
            "__________________________________________________________________________________________________\n",
            "max_pooling1d_3 (MaxPooling1D)  (None, 92, 256)      0           activation_3[0][0]               \n",
            "__________________________________________________________________________________________________\n",
            "max_pooling1d_9 (MaxPooling1D)  (None, 92, 256)      0           activation_9[0][0]               \n",
            "__________________________________________________________________________________________________\n",
            "conv1d_4 (Conv1D)               (None, 44, 392)      502152      max_pooling1d_3[0][0]            \n",
            "__________________________________________________________________________________________________\n",
            "conv1d_10 (Conv1D)              (None, 44, 392)      502152      max_pooling1d_9[0][0]            \n",
            "__________________________________________________________________________________________________\n",
            "batch_normalization_4 (BatchNor (None, 44, 392)      1568        conv1d_4[0][0]                   \n",
            "__________________________________________________________________________________________________\n",
            "batch_normalization_10 (BatchNo (None, 44, 392)      1568        conv1d_10[0][0]                  \n",
            "__________________________________________________________________________________________________\n",
            "activation_4 (Activation)       (None, 44, 392)      0           batch_normalization_4[0][0]      \n",
            "__________________________________________________________________________________________________\n",
            "activation_10 (Activation)      (None, 44, 392)      0           batch_normalization_10[0][0]     \n",
            "__________________________________________________________________________________________________\n",
            "max_pooling1d_4 (MaxPooling1D)  (None, 22, 392)      0           activation_4[0][0]               \n",
            "__________________________________________________________________________________________________\n",
            "max_pooling1d_10 (MaxPooling1D) (None, 22, 392)      0           activation_10[0][0]              \n",
            "__________________________________________________________________________________________________\n",
            "conv1d_5 (Conv1D)               (None, 8, 512)       1405440     max_pooling1d_4[0][0]            \n",
            "__________________________________________________________________________________________________\n",
            "conv1d_11 (Conv1D)              (None, 8, 512)       1405440     max_pooling1d_10[0][0]           \n",
            "__________________________________________________________________________________________________\n",
            "batch_normalization_5 (BatchNor (None, 8, 512)       2048        conv1d_5[0][0]                   \n",
            "__________________________________________________________________________________________________\n",
            "batch_normalization_11 (BatchNo (None, 8, 512)       2048        conv1d_11[0][0]                  \n",
            "__________________________________________________________________________________________________\n",
            "activation_5 (Activation)       (None, 8, 512)       0           batch_normalization_5[0][0]      \n",
            "__________________________________________________________________________________________________\n",
            "activation_11 (Activation)      (None, 8, 512)       0           batch_normalization_11[0][0]     \n",
            "__________________________________________________________________________________________________\n",
            "max_pooling1d_5 (MaxPooling1D)  (None, 4, 512)       0           activation_5[0][0]               \n",
            "__________________________________________________________________________________________________\n",
            "max_pooling1d_11 (MaxPooling1D) (None, 4, 512)       0           activation_11[0][0]              \n",
            "__________________________________________________________________________________________________\n",
            "flatten (Flatten)               (None, 2048)         0           max_pooling1d_5[0][0]            \n",
            "__________________________________________________________________________________________________\n",
            "flatten_1 (Flatten)             (None, 2048)         0           max_pooling1d_11[0][0]           \n",
            "__________________________________________________________________________________________________\n",
            "concatenate (Concatenate)       (None, 4096)         0           flatten[0][0]                    \n",
            "                                                                 flatten_1[0][0]                  \n",
            "__________________________________________________________________________________________________\n",
            "dense (Dense)                   (None, 100)          409700      concatenate[0][0]                \n",
            "__________________________________________________________________________________________________\n",
            "dropout (Dropout)               (None, 100)          0           dense[0][0]                      \n",
            "__________________________________________________________________________________________________\n",
            "dense_1 (Dense)                 (None, 10)           1010        dropout[0][0]                    \n",
            "==================================================================================================\n",
            "Total params: 5,101,734\n",
            "Trainable params: 5,095,046\n",
            "Non-trainable params: 6,688\n",
            "__________________________________________________________________________________________________\n"
          ],
          "name": "stdout"
        }
      ]
    },
    {
      "cell_type": "code",
      "metadata": {
        "id": "hy-GsG-EeBy0",
        "outputId": "db244db3-14bc-4b36-a470-d242c5a65e86",
        "colab": {
          "base_uri": "https://localhost:8080/",
          "height": 436
        }
      },
      "source": [
        "history = model.fit([X, X_t], y, epochs=epochs, validation_split=0, batch_size=batch_size, verbose=verbose)"
      ],
      "execution_count": null,
      "outputs": [
        {
          "output_type": "stream",
          "text": [
            "Epoch 1/11\n",
            "  2/764 [..............................] - ETA: 46s - loss: 4.3710 - accuracy: 0.0625WARNING:tensorflow:Callbacks method `on_train_batch_end` is slow compared to the batch time (batch time: 0.0474s vs `on_train_batch_end` time: 0.0714s). Check your callbacks.\n",
            "764/764 [==============================] - 89s 117ms/step - loss: 2.4816 - accuracy: 0.6312\n",
            "Epoch 2/11\n",
            "764/764 [==============================] - 89s 116ms/step - loss: 1.8108 - accuracy: 0.8618\n",
            "Epoch 3/11\n",
            "764/764 [==============================] - 89s 116ms/step - loss: 1.6379 - accuracy: 0.9169\n",
            "Epoch 4/11\n",
            "764/764 [==============================] - 89s 116ms/step - loss: 1.5453 - accuracy: 0.9407\n",
            "Epoch 5/11\n",
            "764/764 [==============================] - 89s 116ms/step - loss: 1.4852 - accuracy: 0.9541\n",
            "Epoch 6/11\n",
            "764/764 [==============================] - 89s 116ms/step - loss: 1.4412 - accuracy: 0.9618\n",
            "Epoch 7/11\n",
            "764/764 [==============================] - 89s 116ms/step - loss: 1.4009 - accuracy: 0.9677\n",
            "Epoch 8/11\n",
            "764/764 [==============================] - 89s 116ms/step - loss: 1.3666 - accuracy: 0.9725\n",
            "Epoch 9/11\n",
            "764/764 [==============================] - 89s 116ms/step - loss: 1.3329 - accuracy: 0.9777\n",
            "Epoch 10/11\n",
            "764/764 [==============================] - 89s 116ms/step - loss: 1.3102 - accuracy: 0.9793\n",
            "Epoch 11/11\n",
            "764/764 [==============================] - 89s 116ms/step - loss: 1.2845 - accuracy: 0.9813\n"
          ],
          "name": "stdout"
        }
      ]
    },
    {
      "cell_type": "markdown",
      "metadata": {
        "id": "WlQS8LYWHgvT"
      },
      "source": [
        "##Evalutation"
      ]
    },
    {
      "cell_type": "code",
      "metadata": {
        "id": "wSQCUKo6LraO"
      },
      "source": [
        "audios_ev = []\n",
        "time_ev = []\n",
        "file_name = []\n",
        "file = os.listdir('/content/evaluation/')\n",
        "for name in file:\n",
        "      file_name.append(name)\n",
        "      lung = len(np.array(read('/content/evaluation/' + name)[1]))\n",
        "      if lung == 11999:\n",
        "        appo = np.array(read('/content/evaluation/' + name)[1])\n",
        "      elif lung < 11999:\n",
        "        p = 11999 - lung\n",
        "        appo = np.pad(np.array(read('/content/evaluation/' + name)[1]), (0, p))\n",
        "      time_ev.append(appo)\n",
        "      audios_ev.append(np.abs(fft(appo)))"
      ],
      "execution_count": null,
      "outputs": []
    },
    {
      "cell_type": "code",
      "metadata": {
        "id": "HOn41NVjksOW"
      },
      "source": [
        "audios_ev = np.array(audios_ev)\n",
        "time_ev = np.array(time_ev)\n",
        "audios_ev = ss1.transform(audios_ev)\n",
        "audios_ev = audios_ev.reshape((5832, 11999, 1))\n",
        "time_ev = sst1.transform(time_ev)\n",
        "time_ev = time_ev.reshape((5832, 11999, 1))"
      ],
      "execution_count": null,
      "outputs": []
    },
    {
      "cell_type": "code",
      "metadata": {
        "id": "bwCMXAI3qbWU"
      },
      "source": [
        "c = model.predict([audios_ev, time_ev])\n",
        "c = c.argmax(axis=-1)\n",
        "res = []\n",
        "for val in c:\n",
        "  res.append(letters[val])"
      ],
      "execution_count": null,
      "outputs": []
    },
    {
      "cell_type": "code",
      "metadata": {
        "id": "alaSmkibqjIh"
      },
      "source": [
        "with open('result.csv', 'w') as file:\n",
        "    file.write('Id,Predicted\\n')\n",
        "    for name,prediction in zip(file_name, res):\n",
        "        name=name.replace(\".wav\",'')\n",
        "        file.write(f\"{name},{prediction}\\n\")"
      ],
      "execution_count": null,
      "outputs": []
    }
  ]
}